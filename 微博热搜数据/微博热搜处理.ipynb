{
 "cells": [
  {
   "cell_type": "code",
   "execution_count": 2,
   "metadata": {},
   "outputs": [],
   "source": [
    "import json\n",
    "import pandas as pd\n",
    "import time\n",
    "from tqdm import tqdm\n",
    "import re\n",
    "import datetime"
   ]
  },
  {
   "cell_type": "code",
   "execution_count": 3,
   "metadata": {},
   "outputs": [],
   "source": [
    "#获取202207往前12个月的月份list（为了后续读取文件）\n",
    "month_date_list = list(pd.period_range('2022-07',periods=12,freq='M'))\n",
    "monthlist = list(map(lambda x : str(x)[:4] + str(x)[-2:] , month_date_list))"
   ]
  },
  {
   "cell_type": "code",
   "execution_count": 4,
   "metadata": {},
   "outputs": [
    {
     "name": "stderr",
     "output_type": "stream",
     "text": [
      "100%|██████████| 12/12 [00:10<00:00,  1.10it/s]\n"
     ]
    }
   ],
   "source": [
    "#读取全部热搜文件并合并\n",
    "monthallnewslist = []\n",
    "for month in tqdm(monthlist):\n",
    "    news = pd.read_excel(month + '.xlsx')\n",
    "    monthallnewslist.append(news.drop('序号',axis=1))\n",
    "newsall = pd.concat(monthallnewslist)\n",
    "newsall.sort_values('上榜时间',inplace=True)\n",
    "newsalldf = newsall.set_index('上榜时间')\n",
    "newsalldf.index = pd.to_datetime(newsalldf.index)"
   ]
  },
  {
   "cell_type": "code",
   "execution_count": 5,
   "metadata": {},
   "outputs": [],
   "source": [
    "#获取交易日\n",
    "close = pd.read_feather('BasicFactor_Close.txt').set_index('time')\n",
    "close.index = pd.to_datetime(close.index.astype(str))\n",
    "tradeday = close['2022-07-01':].index"
   ]
  },
  {
   "cell_type": "code",
   "execution_count": 78,
   "metadata": {},
   "outputs": [
    {
     "data": {
      "text/plain": [
       "Timestamp('2023-06-30 15:00:00')"
      ]
     },
     "execution_count": 78,
     "metadata": {},
     "output_type": "execute_result"
    }
   ],
   "source": [
    "#构造交易日开盘时间，交易日停盘时间，前一个交易日开盘时间\n",
    "start_tradeday = list(map(lambda x : x + datetime.timedelta(hours=9,minutes=15) , tradeday))\n",
    "end_tradeday = list(map(lambda x : x + datetime.timedelta(hours=15) , tradeday))\n",
    "previous_end_tradeday = end_tradeday.copy()\n",
    "previous_end_tradeday.insert(0,pd.Timestamp('2022-06-30 15:00:00'))\n",
    "previous_end_tradeday.pop()"
   ]
  },
  {
   "cell_type": "code",
   "execution_count": 79,
   "metadata": {},
   "outputs": [],
   "source": [
    "#盘前news；盘中news，盘后news\n",
    "preopen_timepair_list = list(zip(previous_end_tradeday,start_tradeday))\n",
    "opening_timepair_list = list(zip(start_tradeday,end_tradeday))\n",
    "all_timepair_list = list(zip(previous_end_tradeday,end_tradeday))"
   ]
  },
  {
   "cell_type": "code",
   "execution_count": 80,
   "metadata": {},
   "outputs": [],
   "source": [
    "#获取三组热搜数据表\n",
    "def getnewscut(newsdf,timepairlist):\n",
    "    daynewslist = []\n",
    "    for timepair in timepairlist:\n",
    "        daynews = newsdf.truncate(before=timepair[0], after=timepair[1])\n",
    "        day = timepair[1].date()\n",
    "        daynews = pd.concat([daynews,pd.Series(day,name='date',index=daynews.index)],axis=1)\n",
    "        daynewslist.append(daynews)\n",
    "    finalnews = pd.concat(daynewslist)\n",
    "    return finalnews"
   ]
  },
  {
   "cell_type": "code",
   "execution_count": 81,
   "metadata": {},
   "outputs": [],
   "source": [
    "preopen_news = getnewscut(newsalldf,preopen_timepair_list)\n",
    "opening_news = getnewscut(newsalldf,opening_timepair_list)\n",
    "all_news = getnewscut(newsalldf,all_timepair_list)"
   ]
  },
  {
   "cell_type": "code",
   "execution_count": 82,
   "metadata": {},
   "outputs": [],
   "source": [
    "preopen_news.to_csv('preopen_news.csv')\n",
    "opening_news.to_csv('opening_news.csv')\n",
    "all_news.to_csv('all_news.csv')"
   ]
  }
 ],
 "metadata": {
  "kernelspec": {
   "display_name": "Python 3.9.12 ('base')",
   "language": "python",
   "name": "python3"
  },
  "language_info": {
   "codemirror_mode": {
    "name": "ipython",
    "version": 3
   },
   "file_extension": ".py",
   "mimetype": "text/x-python",
   "name": "python",
   "nbconvert_exporter": "python",
   "pygments_lexer": "ipython3",
   "version": "3.9.12"
  },
  "orig_nbformat": 4,
  "vscode": {
   "interpreter": {
    "hash": "d8a9911dd55824de2b9148872b09f5aa97429f0d8598f0eb95e15d199cda6b48"
   }
  }
 },
 "nbformat": 4,
 "nbformat_minor": 2
}
