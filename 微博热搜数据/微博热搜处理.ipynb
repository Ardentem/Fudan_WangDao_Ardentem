{
 "cells": [
  {
   "cell_type": "code",
   "execution_count": 1,
   "metadata": {},
   "outputs": [],
   "source": [
    "import json\n",
    "import pandas as pd\n",
    "import numpy as np\n",
    "import time\n",
    "from tqdm import tqdm\n",
    "import re\n",
    "import datetime"
   ]
  },
  {
   "cell_type": "code",
   "execution_count": 2,
   "metadata": {},
   "outputs": [],
   "source": [
    "#获取202207往后12个月的月份list（为了后续读取文件）\n",
    "month_date_list = list(pd.period_range('2022-07',periods=12,freq='M'))\n",
    "monthlist = list(map(lambda x : str(x)[:4] + str(x)[-2:] , month_date_list))"
   ]
  },
  {
   "cell_type": "code",
   "execution_count": 3,
   "metadata": {},
   "outputs": [
    {
     "name": "stderr",
     "output_type": "stream",
     "text": [
      "100%|██████████| 12/12 [00:10<00:00,  1.10it/s]\n"
     ]
    }
   ],
   "source": [
    "#读取全部热搜文件并合并\n",
    "monthallnewslist = []\n",
    "for month in tqdm(monthlist):\n",
    "    news = pd.read_excel(month + '.xlsx')\n",
    "    monthallnewslist.append(news.drop('序号',axis=1))\n",
    "newsall = pd.concat(monthallnewslist)\n",
    "newsall.sort_values('上榜时间',inplace=True)\n",
    "newsalldf = newsall.set_index('上榜时间')\n",
    "newsalldf.index = pd.to_datetime(newsalldf.index)"
   ]
  },
  {
   "cell_type": "code",
   "execution_count": 4,
   "metadata": {},
   "outputs": [
    {
     "data": {
      "text/html": [
       "<div>\n",
       "<style scoped>\n",
       "    .dataframe tbody tr th:only-of-type {\n",
       "        vertical-align: middle;\n",
       "    }\n",
       "\n",
       "    .dataframe tbody tr th {\n",
       "        vertical-align: top;\n",
       "    }\n",
       "\n",
       "    .dataframe thead th {\n",
       "        text-align: right;\n",
       "    }\n",
       "</style>\n",
       "<table border=\"1\" class=\"dataframe\">\n",
       "  <thead>\n",
       "    <tr style=\"text-align: right;\">\n",
       "      <th></th>\n",
       "      <th>热搜</th>\n",
       "      <th>最高排名</th>\n",
       "      <th>在榜时长（分钟）</th>\n",
       "      <th>热度</th>\n",
       "      <th>备注</th>\n",
       "    </tr>\n",
       "    <tr>\n",
       "      <th>上榜时间</th>\n",
       "      <th></th>\n",
       "      <th></th>\n",
       "      <th></th>\n",
       "      <th></th>\n",
       "      <th></th>\n",
       "    </tr>\n",
       "  </thead>\n",
       "  <tbody>\n",
       "    <tr>\n",
       "      <th>2022-07-01 00:00:10</th>\n",
       "      <td>RNG战胜OMG</td>\n",
       "      <td>47</td>\n",
       "      <td>20分</td>\n",
       "      <td>67801</td>\n",
       "      <td>NaN</td>\n",
       "    </tr>\n",
       "    <tr>\n",
       "      <th>2022-07-01 00:00:10</th>\n",
       "      <td>湖南日军性奴隶制度受害者雷金二逝世</td>\n",
       "      <td>21</td>\n",
       "      <td>10时4分</td>\n",
       "      <td>131081</td>\n",
       "      <td>NaN</td>\n",
       "    </tr>\n",
       "    <tr>\n",
       "      <th>2022-07-01 00:00:10</th>\n",
       "      <td>中国女排3比0波兰女排</td>\n",
       "      <td>20</td>\n",
       "      <td>7时17分</td>\n",
       "      <td>47838</td>\n",
       "      <td>NaN</td>\n",
       "    </tr>\n",
       "    <tr>\n",
       "      <th>2022-07-01 00:00:10</th>\n",
       "      <td>西瓜最清凉的吃法</td>\n",
       "      <td>19</td>\n",
       "      <td>4时59分</td>\n",
       "      <td>7128</td>\n",
       "      <td>NaN</td>\n",
       "    </tr>\n",
       "    <tr>\n",
       "      <th>2022-07-01 00:00:10</th>\n",
       "      <td>话梅刺客</td>\n",
       "      <td>6</td>\n",
       "      <td>9时24分</td>\n",
       "      <td>167708</td>\n",
       "      <td>NaN</td>\n",
       "    </tr>\n",
       "    <tr>\n",
       "      <th>...</th>\n",
       "      <td>...</td>\n",
       "      <td>...</td>\n",
       "      <td>...</td>\n",
       "      <td>...</td>\n",
       "      <td>...</td>\n",
       "    </tr>\n",
       "    <tr>\n",
       "      <th>2023-06-30 23:32:20</th>\n",
       "      <td>小学生平静分享保持情绪稳定的秘诀</td>\n",
       "      <td>46</td>\n",
       "      <td>6分</td>\n",
       "      <td>185990</td>\n",
       "      <td>NaN</td>\n",
       "    </tr>\n",
       "    <tr>\n",
       "      <th>2023-06-30 23:34:16</th>\n",
       "      <td>裸体男子在女浴室待8分钟称误入</td>\n",
       "      <td>23</td>\n",
       "      <td>25分</td>\n",
       "      <td>386627</td>\n",
       "      <td>NaN</td>\n",
       "    </tr>\n",
       "    <tr>\n",
       "      <th>2023-06-30 23:42:55</th>\n",
       "      <td>什么病人明明是我本人</td>\n",
       "      <td>39</td>\n",
       "      <td>16分</td>\n",
       "      <td>237910</td>\n",
       "      <td>NaN</td>\n",
       "    </tr>\n",
       "    <tr>\n",
       "      <th>2023-06-30 23:44:07</th>\n",
       "      <td>越南一位老人50年没睡觉</td>\n",
       "      <td>31</td>\n",
       "      <td>15分</td>\n",
       "      <td>309963</td>\n",
       "      <td>NaN</td>\n",
       "    </tr>\n",
       "    <tr>\n",
       "      <th>2023-06-30 23:57:52</th>\n",
       "      <td>法斗的叫声能有多难听</td>\n",
       "      <td>49</td>\n",
       "      <td>2分</td>\n",
       "      <td>168282</td>\n",
       "      <td>NaN</td>\n",
       "    </tr>\n",
       "  </tbody>\n",
       "</table>\n",
       "<p>145804 rows × 5 columns</p>\n",
       "</div>"
      ],
      "text/plain": [
       "                                    热搜  最高排名 在榜时长（分钟）      热度   备注\n",
       "上榜时间                                                              \n",
       "2022-07-01 00:00:10           RNG战胜OMG    47      20分   67801  NaN\n",
       "2022-07-01 00:00:10  湖南日军性奴隶制度受害者雷金二逝世    21    10时4分  131081  NaN\n",
       "2022-07-01 00:00:10        中国女排3比0波兰女排    20    7时17分   47838  NaN\n",
       "2022-07-01 00:00:10           西瓜最清凉的吃法    19    4时59分    7128  NaN\n",
       "2022-07-01 00:00:10               话梅刺客     6    9时24分  167708  NaN\n",
       "...                                ...   ...      ...     ...  ...\n",
       "2023-06-30 23:32:20   小学生平静分享保持情绪稳定的秘诀    46       6分  185990  NaN\n",
       "2023-06-30 23:34:16    裸体男子在女浴室待8分钟称误入    23      25分  386627  NaN\n",
       "2023-06-30 23:42:55         什么病人明明是我本人    39      16分  237910  NaN\n",
       "2023-06-30 23:44:07       越南一位老人50年没睡觉    31      15分  309963  NaN\n",
       "2023-06-30 23:57:52         法斗的叫声能有多难听    49       2分  168282  NaN\n",
       "\n",
       "[145804 rows x 5 columns]"
      ]
     },
     "execution_count": 4,
     "metadata": {},
     "output_type": "execute_result"
    }
   ],
   "source": [
    "#删去广告\n",
    "newsalldf = newsalldf[newsalldf['备注']!='广告位']"
   ]
  },
  {
   "cell_type": "code",
   "execution_count": 5,
   "metadata": {},
   "outputs": [],
   "source": [
    "#获取交易日\n",
    "close = pd.read_feather('BasicFactor_Close.txt').set_index('time')\n",
    "close.index = pd.to_datetime(close.index.astype(str))\n",
    "tradeday = close['2022-07-01':].index"
   ]
  },
  {
   "cell_type": "code",
   "execution_count": 6,
   "metadata": {},
   "outputs": [
    {
     "data": {
      "text/plain": [
       "Timestamp('2023-06-30 15:00:00')"
      ]
     },
     "execution_count": 6,
     "metadata": {},
     "output_type": "execute_result"
    }
   ],
   "source": [
    "#构造交易日开盘时间，交易日停盘时间，前一个交易日开盘时间\n",
    "start_tradeday = list(map(lambda x : x + datetime.timedelta(hours=9,minutes=15) , tradeday))\n",
    "end_tradeday = list(map(lambda x : x + datetime.timedelta(hours=15) , tradeday))\n",
    "previous_end_tradeday = end_tradeday.copy()\n",
    "previous_end_tradeday.insert(0,pd.Timestamp('2022-06-30 15:00:00'))\n",
    "previous_end_tradeday.pop()"
   ]
  },
  {
   "cell_type": "code",
   "execution_count": 7,
   "metadata": {},
   "outputs": [],
   "source": [
    "#盘前news；盘中news，盘后news\n",
    "preopen_timepair_list = list(zip(previous_end_tradeday,start_tradeday))\n",
    "opening_timepair_list = list(zip(start_tradeday,end_tradeday))\n",
    "all_timepair_list = list(zip(previous_end_tradeday,end_tradeday))"
   ]
  },
  {
   "cell_type": "code",
   "execution_count": 13,
   "metadata": {},
   "outputs": [],
   "source": [
    "#获取三组热搜数据表\n",
    "def getnewscut(newsdf,timepairlist):\n",
    "    daynewslist = []\n",
    "    for timepair in timepairlist:\n",
    "        daynews = newsdf.truncate(before=timepair[0], after=timepair[1])\n",
    "        day = timepair[1].date()\n",
    "        daynews = pd.concat([daynews,pd.Series(day,name='交易日',index=daynews.index)],axis=1)\n",
    "        daynewslist.append(daynews)\n",
    "    finalnews = pd.concat(daynewslist)\n",
    "    return finalnews"
   ]
  },
  {
   "cell_type": "code",
   "execution_count": 14,
   "metadata": {},
   "outputs": [],
   "source": [
    "preopen_news = getnewscut(newsalldf,preopen_timepair_list)\n",
    "opening_news = getnewscut(newsalldf,opening_timepair_list)\n",
    "all_news = getnewscut(newsalldf,all_timepair_list)"
   ]
  },
  {
   "cell_type": "code",
   "execution_count": 15,
   "metadata": {},
   "outputs": [],
   "source": [
    "preopen_news.to_csv('preopen_news.csv')\n",
    "opening_news.to_csv('opening_news.csv')\n",
    "all_news.to_csv('all_news.csv')"
   ]
  }
 ],
 "metadata": {
  "kernelspec": {
   "display_name": "Python 3.9.12 ('base')",
   "language": "python",
   "name": "python3"
  },
  "language_info": {
   "codemirror_mode": {
    "name": "ipython",
    "version": 3
   },
   "file_extension": ".py",
   "mimetype": "text/x-python",
   "name": "python",
   "nbconvert_exporter": "python",
   "pygments_lexer": "ipython3",
   "version": "3.9.12"
  },
  "orig_nbformat": 4,
  "vscode": {
   "interpreter": {
    "hash": "d8a9911dd55824de2b9148872b09f5aa97429f0d8598f0eb95e15d199cda6b48"
   }
  }
 },
 "nbformat": 4,
 "nbformat_minor": 2
}
