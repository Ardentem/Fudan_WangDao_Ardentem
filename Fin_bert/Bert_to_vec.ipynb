{
 "cells": [
  {
   "cell_type": "code",
   "execution_count": 1,
   "metadata": {},
   "outputs": [],
   "source": [
    "import basicModel as bm\n",
    "import pandas as pd"
   ]
  },
  {
   "cell_type": "code",
   "execution_count": 2,
   "metadata": {},
   "outputs": [],
   "source": [
    "#股票信息数据\n",
    "infodf = pd.read_feather('./database/infoall.txt').set_index('code')"
   ]
  },
  {
   "cell_type": "code",
   "execution_count": 3,
   "metadata": {},
   "outputs": [],
   "source": [
    "#模型初始化\n",
    "fb = bm.basicmodel()\n",
    "fb.initialize()"
   ]
  },
  {
   "cell_type": "code",
   "execution_count": 4,
   "metadata": {},
   "outputs": [
    {
     "name": "stderr",
     "output_type": "stream",
     "text": [
      "100%|██████████| 272/272 [1:11:34<00:00, 15.79s/it]  \n"
     ]
    }
   ],
   "source": [
    "introduction_sen = list(infodf['introduction'].fillna(''))\n",
    "introduction_vec = fb.sentece_bert(introduction_sen)"
   ]
  },
  {
   "cell_type": "code",
   "execution_count": 5,
   "metadata": {},
   "outputs": [
    {
     "name": "stderr",
     "output_type": "stream",
     "text": [
      "100%|██████████| 272/272 [00:31<00:00,  8.53it/s]\n",
      "100%|██████████| 272/272 [01:20<00:00,  3.38it/s]\n",
      "100%|██████████| 272/272 [00:26<00:00, 10.14it/s]\n"
     ]
    }
   ],
   "source": [
    "code_sen = list(infodf.index)\n",
    "code_vec = fb.sentece_bert(code_sen)\n",
    "name_sen = list(infodf['name'].fillna(''))\n",
    "name_vec = fb.sentece_bert(name_sen)\n",
    "shortname_sen = list(infodf['shortname'].fillna(''))\n",
    "shortname_vec = fb.sentece_bert(shortname_sen)"
   ]
  },
  {
   "cell_type": "code",
   "execution_count": 6,
   "metadata": {},
   "outputs": [],
   "source": [
    "res = pd.DataFrame([code_vec,shortname_vec,name_vec,introduction_vec]).T\n",
    "res.columns = ['code','shortname','name','introduction']\n",
    "res.to_feather('./database/infoall_vec_BasicCN.txt')"
   ]
  },
  {
   "cell_type": "code",
   "execution_count": 8,
   "metadata": {},
   "outputs": [],
   "source": [
    "newsdf = pd.read_feather('./database/all_news_full.txt')\n",
    "newsdf = newsdf.drop(['备注'],axis=1)"
   ]
  },
  {
   "cell_type": "code",
   "execution_count": 9,
   "metadata": {},
   "outputs": [
    {
     "data": {
      "text/html": [
       "<div>\n",
       "<style scoped>\n",
       "    .dataframe tbody tr th:only-of-type {\n",
       "        vertical-align: middle;\n",
       "    }\n",
       "\n",
       "    .dataframe tbody tr th {\n",
       "        vertical-align: top;\n",
       "    }\n",
       "\n",
       "    .dataframe thead th {\n",
       "        text-align: right;\n",
       "    }\n",
       "</style>\n",
       "<table border=\"1\" class=\"dataframe\">\n",
       "  <thead>\n",
       "    <tr style=\"text-align: right;\">\n",
       "      <th></th>\n",
       "      <th>index</th>\n",
       "      <th>上榜时间</th>\n",
       "      <th>热搜</th>\n",
       "      <th>最高排名</th>\n",
       "      <th>在榜时长（分钟）</th>\n",
       "      <th>热度</th>\n",
       "      <th>交易日</th>\n",
       "      <th>时间</th>\n",
       "      <th>全文</th>\n",
       "    </tr>\n",
       "  </thead>\n",
       "  <tbody>\n",
       "    <tr>\n",
       "      <th>0</th>\n",
       "      <td>55</td>\n",
       "      <td>2022-07-01 00:22:34</td>\n",
       "      <td>祝福香港祝福祖国</td>\n",
       "      <td>1</td>\n",
       "      <td>11时9分</td>\n",
       "      <td>123114</td>\n",
       "      <td>2022-07-01</td>\n",
       "      <td>preopen</td>\n",
       "      <td>'【#一人一句祝福香港祝福祖国#】奋进25载，起航新征程，香港未来必将在与祖国携手共进中不断...</td>\n",
       "    </tr>\n",
       "    <tr>\n",
       "      <th>1</th>\n",
       "      <td>147</td>\n",
       "      <td>2022-07-01 10:05:49</td>\n",
       "      <td>1997年7月1日0时0分0秒</td>\n",
       "      <td>1</td>\n",
       "      <td>12时2分</td>\n",
       "      <td>119871</td>\n",
       "      <td>2022-07-01</td>\n",
       "      <td>opening</td>\n",
       "      <td>'【今天，重温#1997年7月1日0时0分0秒#，依旧泪目！】1997年7月1日0时0分0秒...</td>\n",
       "    </tr>\n",
       "    <tr>\n",
       "      <th>2</th>\n",
       "      <td>88</td>\n",
       "      <td>2022-07-01 07:15:37</td>\n",
       "      <td>东方之珠</td>\n",
       "      <td>1</td>\n",
       "      <td>11时1分</td>\n",
       "      <td>118003</td>\n",
       "      <td>2022-07-01</td>\n",
       "      <td>preopen</td>\n",
       "      <td>'【#驻港部队各营区举行升旗仪式#，五星红旗在香港高高飘扬】25年前的今天，香港回归祖国，中...</td>\n",
       "    </tr>\n",
       "    <tr>\n",
       "      <th>3</th>\n",
       "      <td>21</td>\n",
       "      <td>2022-07-01 00:00:10</td>\n",
       "      <td>钟薛高</td>\n",
       "      <td>1</td>\n",
       "      <td>13时23分</td>\n",
       "      <td>86009</td>\n",
       "      <td>2022-07-01</td>\n",
       "      <td>preopen</td>\n",
       "      <td>'#钟薛高31度室温下放1小时不化#？【钟薛高31℃放1小时不化？客服：融化呈粘稠状，有少量...</td>\n",
       "    </tr>\n",
       "    <tr>\n",
       "      <th>4</th>\n",
       "      <td>54</td>\n",
       "      <td>2022-07-01 00:21:32</td>\n",
       "      <td>七月</td>\n",
       "      <td>1</td>\n",
       "      <td>9时8分</td>\n",
       "      <td>160429</td>\n",
       "      <td>2022-07-01</td>\n",
       "      <td>preopen</td>\n",
       "      <td>'#MiniBAZAAR七月刊##任嘉伦雨后情天芭莎大片#每个角色都独一无二，每一段旅途都是...</td>\n",
       "    </tr>\n",
       "    <tr>\n",
       "      <th>...</th>\n",
       "      <td>...</td>\n",
       "      <td>...</td>\n",
       "      <td>...</td>\n",
       "      <td>...</td>\n",
       "      <td>...</td>\n",
       "      <td>...</td>\n",
       "      <td>...</td>\n",
       "      <td>...</td>\n",
       "      <td>...</td>\n",
       "    </tr>\n",
       "    <tr>\n",
       "      <th>7285</th>\n",
       "      <td>145547</td>\n",
       "      <td>2023-06-30 13:44:54</td>\n",
       "      <td>王宝强 谢谢我奶茶姐姐</td>\n",
       "      <td>1</td>\n",
       "      <td>3时58分</td>\n",
       "      <td>184663</td>\n",
       "      <td>2023-06-30</td>\n",
       "      <td>opening</td>\n",
       "      <td>'#王宝强谢谢我奶茶姐姐##青春环游记#@王宝强回看《天下无贼》的片段，讲述@刘若英不仅在戏...</td>\n",
       "    </tr>\n",
       "    <tr>\n",
       "      <th>7286</th>\n",
       "      <td>145530</td>\n",
       "      <td>2023-06-30 12:44:46</td>\n",
       "      <td>奔跑吧今天播不播</td>\n",
       "      <td>1</td>\n",
       "      <td>6时21分</td>\n",
       "      <td>199048</td>\n",
       "      <td>2023-06-30</td>\n",
       "      <td>opening</td>\n",
       "      <td>'#奔跑吧今天播不播#奔跑吧今天播不播，10点没发微博诶#奔跑吧今天10点没发博#'</td>\n",
       "    </tr>\n",
       "    <tr>\n",
       "      <th>7287</th>\n",
       "      <td>145115</td>\n",
       "      <td>2023-06-29 15:51:57</td>\n",
       "      <td>山东龙凤四胞胎同圆大学梦</td>\n",
       "      <td>2</td>\n",
       "      <td>4时43分</td>\n",
       "      <td>221235</td>\n",
       "      <td>2023-06-30</td>\n",
       "      <td>preopen</td>\n",
       "      <td>'【恭喜！#龙凤四胞胎同圆大学梦#】近日，山东菏泽，龙凤四胞胎今年高考，成绩比预期好，同圆大...</td>\n",
       "    </tr>\n",
       "    <tr>\n",
       "      <th>7288</th>\n",
       "      <td>145166</td>\n",
       "      <td>2023-06-29 17:47:05</td>\n",
       "      <td>中国科大宿舍拎包入住</td>\n",
       "      <td>2</td>\n",
       "      <td>5时21分</td>\n",
       "      <td>403806</td>\n",
       "      <td>2023-06-30</td>\n",
       "      <td>preopen</td>\n",
       "      <td>'【又是别人家的学校！#中国科大宿舍拎包入住#】日前，有学生晒出了@中国科学技术大学的宿舍环...</td>\n",
       "    </tr>\n",
       "    <tr>\n",
       "      <th>7289</th>\n",
       "      <td>145264</td>\n",
       "      <td>2023-06-29 21:46:44</td>\n",
       "      <td>肖战好港</td>\n",
       "      <td>2</td>\n",
       "      <td>2时12分</td>\n",
       "      <td>438554</td>\n",
       "      <td>2023-06-30</td>\n",
       "      <td>preopen</td>\n",
       "      <td>'肖战台下鼓掌镜头，惊鸿一瞥好正啊#肖战好港##湾区升明月##肖战周海媚坐一桌#L狐厂大拷问...</td>\n",
       "    </tr>\n",
       "  </tbody>\n",
       "</table>\n",
       "<p>7290 rows × 9 columns</p>\n",
       "</div>"
      ],
      "text/plain": [
       "       index                上榜时间               热搜  最高排名 在榜时长（分钟）      热度  \\\n",
       "0         55 2022-07-01 00:22:34         祝福香港祝福祖国     1    11时9分  123114   \n",
       "1        147 2022-07-01 10:05:49  1997年7月1日0时0分0秒     1    12时2分  119871   \n",
       "2         88 2022-07-01 07:15:37             东方之珠     1    11时1分  118003   \n",
       "3         21 2022-07-01 00:00:10              钟薛高     1   13时23分   86009   \n",
       "4         54 2022-07-01 00:21:32               七月     1     9时8分  160429   \n",
       "...      ...                 ...              ...   ...      ...     ...   \n",
       "7285  145547 2023-06-30 13:44:54      王宝强 谢谢我奶茶姐姐     1    3时58分  184663   \n",
       "7286  145530 2023-06-30 12:44:46         奔跑吧今天播不播     1    6时21分  199048   \n",
       "7287  145115 2023-06-29 15:51:57     山东龙凤四胞胎同圆大学梦     2    4时43分  221235   \n",
       "7288  145166 2023-06-29 17:47:05       中国科大宿舍拎包入住     2    5时21分  403806   \n",
       "7289  145264 2023-06-29 21:46:44             肖战好港     2    2时12分  438554   \n",
       "\n",
       "             交易日       时间                                                 全文  \n",
       "0     2022-07-01  preopen  '【#一人一句祝福香港祝福祖国#】奋进25载，起航新征程，香港未来必将在与祖国携手共进中不断...  \n",
       "1     2022-07-01  opening  '【今天，重温#1997年7月1日0时0分0秒#，依旧泪目！】1997年7月1日0时0分0秒...  \n",
       "2     2022-07-01  preopen  '【#驻港部队各营区举行升旗仪式#，五星红旗在香港高高飘扬】25年前的今天，香港回归祖国，中...  \n",
       "3     2022-07-01  preopen  '#钟薛高31度室温下放1小时不化#？【钟薛高31℃放1小时不化？客服：融化呈粘稠状，有少量...  \n",
       "4     2022-07-01  preopen  '#MiniBAZAAR七月刊##任嘉伦雨后情天芭莎大片#每个角色都独一无二，每一段旅途都是...  \n",
       "...          ...      ...                                                ...  \n",
       "7285  2023-06-30  opening  '#王宝强谢谢我奶茶姐姐##青春环游记#@王宝强回看《天下无贼》的片段，讲述@刘若英不仅在戏...  \n",
       "7286  2023-06-30  opening         '#奔跑吧今天播不播#奔跑吧今天播不播，10点没发微博诶#奔跑吧今天10点没发博#'  \n",
       "7287  2023-06-30  preopen  '【恭喜！#龙凤四胞胎同圆大学梦#】近日，山东菏泽，龙凤四胞胎今年高考，成绩比预期好，同圆大...  \n",
       "7288  2023-06-30  preopen  '【又是别人家的学校！#中国科大宿舍拎包入住#】日前，有学生晒出了@中国科学技术大学的宿舍环...  \n",
       "7289  2023-06-30  preopen  '肖战台下鼓掌镜头，惊鸿一瞥好正啊#肖战好港##湾区升明月##肖战周海媚坐一桌#L狐厂大拷问...  \n",
       "\n",
       "[7290 rows x 9 columns]"
      ]
     },
     "execution_count": 9,
     "metadata": {},
     "output_type": "execute_result"
    }
   ],
   "source": [
    "newsdf"
   ]
  },
  {
   "cell_type": "code",
   "execution_count": 10,
   "metadata": {},
   "outputs": [
    {
     "name": "stderr",
     "output_type": "stream",
     "text": [
      "100%|██████████| 365/365 [01:49<00:00,  3.32it/s]\n",
      "100%|██████████| 365/365 [1:37:56<00:00, 16.10s/it]    \n"
     ]
    }
   ],
   "source": [
    "news_short_sen = list(newsdf['热搜'])\n",
    "news_short_vec = fb.sentece_bert(news_short_sen)\n",
    "news_full_sen = list(newsdf['全文'])\n",
    "news_full_vec = fb.sentece_bert(news_full_sen)\n",
    "newsdf['short_sen_vec'] = news_short_vec\n",
    "newsdf['full_sen_vec'] = news_full_vec\n",
    "newsdf.reset_index().to_feather('./database/all_news_withVEC_BasicCN.txt')"
   ]
  }
 ],
 "metadata": {
  "kernelspec": {
   "display_name": "base",
   "language": "python",
   "name": "python3"
  },
  "language_info": {
   "codemirror_mode": {
    "name": "ipython",
    "version": 3
   },
   "file_extension": ".py",
   "mimetype": "text/x-python",
   "name": "python",
   "nbconvert_exporter": "python",
   "pygments_lexer": "ipython3",
   "version": "3.9.12"
  }
 },
 "nbformat": 4,
 "nbformat_minor": 2
}
