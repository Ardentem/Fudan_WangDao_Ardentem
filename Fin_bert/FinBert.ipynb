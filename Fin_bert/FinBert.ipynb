{
 "cells": [
  {
   "cell_type": "code",
   "execution_count": null,
   "metadata": {},
   "outputs": [],
   "source": [
    "import basicModel as bm\n",
    "import pandas as pd\n",
    "from tqdm import tqdm\n",
    "import numpy as np"
   ]
  },
  {
   "cell_type": "code",
   "execution_count": null,
   "metadata": {},
   "outputs": [],
   "source": [
    "#股票信息数据\n",
    "infodf = pd.read_csv('./database/infoall.csv').drop(['Unnamed: 0.1'],axis=1).set_index('Unnamed: 0')\n",
    "infodf.index.name = 'code'\n",
    "newsdf = pd.read_csv('./database/preopen_news.csv').drop(['备注'],axis=1)"
   ]
  },
  {
   "cell_type": "code",
   "execution_count": null,
   "metadata": {},
   "outputs": [],
   "source": [
    "#模型初始化\n",
    "fb = bm.basicmodel()\n",
    "fb.initialize()"
   ]
  },
  {
   "cell_type": "code",
   "execution_count": null,
   "metadata": {},
   "outputs": [],
   "source": [
    "#获取交易日\n",
    "close = pd.read_feather('./database/BasicFactor_Close.txt').set_index('time')\n",
    "close.index = pd.to_datetime(close.index.astype(str))\n",
    "close = close['2022-07-01':]\n",
    "tradeday = close.index\n",
    "#交易日股票的交易状态\n",
    "tradestatus = close.mask(close>0,1)"
   ]
  },
  {
   "cell_type": "code",
   "execution_count": null,
   "metadata": {},
   "outputs": [],
   "source": [
    "for tradedate in tradeday[:1]:\n",
    "    #选择交易日对应的全部热搜按照最高排名排序，结果的前十条\n",
    "    daynewsdf = newsdf[newsdf['交易日']==tradeday[1].date().isoformat()].sort_values('最高排名').head(20)\n",
    "    #选取当日正常开盘的股票\n",
    "    dayinfo = infodf['introduction'][tradestatus.loc[tradedate].dropna().index]\n",
    "    day_high_simlist = []\n",
    "    for news in daynewsdf.sort_values('最高排名').head(2).itertuples():\n",
    "        simlist = []\n",
    "        for stockinfo in tqdm(dayinfo.dropna().items()):\n",
    "            #计算相似度，文本上限500（模型设定上限512）\n",
    "            sim = fb.calc_similarity(news[2],stockinfo[1][:500])\n",
    "            simlist.append((stockinfo[0],stockinfo[1],sim))\n",
    "        simlist.sort(key=lambda x:x[2])\n",
    "        #相似度最高的五只股票\n",
    "        day_high_simlist.append(simlist[-5:])"
   ]
  }
 ],
 "metadata": {
  "kernelspec": {
   "display_name": "base",
   "language": "python",
   "name": "python3"
  },
  "language_info": {
   "codemirror_mode": {
    "name": "ipython",
    "version": 3
   },
   "file_extension": ".py",
   "mimetype": "text/x-python",
   "name": "python",
   "nbconvert_exporter": "python",
   "pygments_lexer": "ipython3",
   "version": "3.9.12"
  },
  "orig_nbformat": 4
 },
 "nbformat": 4,
 "nbformat_minor": 2
}
