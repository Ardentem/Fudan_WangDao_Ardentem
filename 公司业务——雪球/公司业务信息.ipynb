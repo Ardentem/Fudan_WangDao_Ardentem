{
 "cells": [
  {
   "cell_type": "code",
   "execution_count": 46,
   "metadata": {},
   "outputs": [],
   "source": [
    "from urllib import request\n",
    "#from fake_useragent import UserAgent, VERSION\n",
    "from urllib import parse\n",
    "import json\n",
    "import requests\n",
    "import re\n",
    "import pandas as pd\n",
    "from openpyxl import Workbook\n",
    "from fake_useragent import UserAgent\n",
    "from bs4 import BeautifulSoup as bs\n",
    "import time\n",
    "from tqdm import tqdm\n",
    "ua = UserAgent(path='fake_useragent.json')"
   ]
  },
  {
   "cell_type": "code",
   "execution_count": 2,
   "metadata": {},
   "outputs": [],
   "source": [
    "closedf = pd.read_feather('BasicFactor_Close.txt').set_index('time')\n",
    "stockse = closedf.columns"
   ]
  },
  {
   "cell_type": "code",
   "execution_count": 79,
   "metadata": {},
   "outputs": [
    {
     "name": "stderr",
     "output_type": "stream",
     "text": [
      "100%|██████████| 432/432 [08:39<00:00,  1.20s/it]\n"
     ]
    }
   ],
   "source": [
    "#爬取雪球网上的公司信息\n",
    "info_all = []\n",
    "#每次只爬1000股 保存五个csv文件\n",
    "stocklist = stockse[5000:]\n",
    "for stock in tqdm(stocklist):\n",
    "    stockcode = stock[-2:] + stock[:6]\n",
    "    url = 'https://stock.xueqiu.com/v5/stock/f10/cn/company.json?symbol={}'.format(stockcode)\n",
    "    uastr = ua.random\n",
    "    headers = {'User-Agent':uastr,'Cookie':'xqat=197a3a870824d1754f6edf083d719bd1a3aabe88'}\n",
    "    res = requests.get(url=url,headers=headers)\n",
    "    info = json.loads(res.text)['data']['company']\n",
    "    if info == None:\n",
    "        info_all.append([])\n",
    "        continue\n",
    "    infolist = [info['org_name_cn'],info['org_short_name_cn'],info['pre_name_cn'],\n",
    "                info['main_operation_business'],info['operating_scope'],info['org_cn_introduction'],\n",
    "                info['legal_representative'],info['actual_controller'],info['office_address_cn']]\n",
    "    info_all.append(infolist)\n",
    "    time.sleep(1)\n",
    "infodf = pd.DataFrame(info_all)\n",
    "infodf.columns = ['name','shortname','prename','operation','operation_scope','introduction','legal_representative','actual_controller','office']\n",
    "infodf.index = stocklist"
   ]
  },
  {
   "cell_type": "code",
   "execution_count": 80,
   "metadata": {},
   "outputs": [],
   "source": [
    "infodf.to_csv('info5.csv')"
   ]
  },
  {
   "cell_type": "code",
   "execution_count": 85,
   "metadata": {},
   "outputs": [],
   "source": [
    "df0 = pd.read_csv('info0.csv')\n",
    "df1 = pd.read_csv('info1.csv')\n",
    "df2 = pd.read_csv('info2.csv')\n",
    "df3 = pd.read_csv('info3.csv')\n",
    "df4 = pd.read_csv('info4.csv')\n",
    "df5 = pd.read_csv('info5.csv')"
   ]
  },
  {
   "cell_type": "code",
   "execution_count": 87,
   "metadata": {},
   "outputs": [],
   "source": [
    "finaldf = pd.concat([df0,df1,df2,df3,df4,df5])\n",
    "finaldf.to_csv('infoall.csv')"
   ]
  }
 ],
 "metadata": {
  "kernelspec": {
   "display_name": "Python 3.9.12 ('base')",
   "language": "python",
   "name": "python3"
  },
  "language_info": {
   "codemirror_mode": {
    "name": "ipython",
    "version": 3
   },
   "file_extension": ".py",
   "mimetype": "text/x-python",
   "name": "python",
   "nbconvert_exporter": "python",
   "pygments_lexer": "ipython3",
   "version": "3.9.12"
  },
  "orig_nbformat": 4,
  "vscode": {
   "interpreter": {
    "hash": "d8a9911dd55824de2b9148872b09f5aa97429f0d8598f0eb95e15d199cda6b48"
   }
  }
 },
 "nbformat": 4,
 "nbformat_minor": 2
}
